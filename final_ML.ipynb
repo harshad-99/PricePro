{
 "cells": [
  {
   "cell_type": "code",
   "execution_count": 2,
   "id": "db97283d-53d3-4c82-b6f6-9f826ae727f3",
   "metadata": {},
   "outputs": [
    {
     "name": "stdout",
     "output_type": "stream",
     "text": [
      "Training Performance:\n",
      "MAE: 734.74, RMSE: 2574827.88, R²: 0.9729\n",
      "\n",
      "Testing Performance:\n",
      "MAE: 2368.15, RMSE: 23180446.00, R²: 0.8813\n"
     ]
    }
   ],
   "source": [
    "import pandas as pd\n",
    "import numpy as np\n",
    "from sklearn.ensemble import RandomForestRegressor\n",
    "from sklearn.metrics import mean_absolute_error, mean_squared_error, r2_score\n",
    "\n",
    "# Load the datasets\n",
    "train_path = \"New_DataSet.xlsx\"\n",
    "test_path = \"Project_DataSet.xlsx\"\n",
    "\n",
    "train_df = pd.read_excel(train_path)\n",
    "test_df = pd.read_excel(test_path)\n",
    "\n",
    "# Drop extra columns from the test dataset\n",
    "extra_columns = [\"PRICE:\", \"Total\", \"Total.1\"]\n",
    "test_df = test_df.drop(columns=[col for col in extra_columns if col in test_df.columns], errors=\"ignore\")\n",
    "\n",
    "# Fill missing values with column means\n",
    "train_df = train_df.fillna(train_df.mean())\n",
    "test_df = test_df.fillna(test_df.mean())\n",
    "\n",
    "# Ensure the column order matches exactly\n",
    "test_df = test_df[train_df.columns]\n",
    "\n",
    "# Define target column\n",
    "target_column = \"Net profit\"\n",
    "\n",
    "# Split into features (X) and target (y)\n",
    "X_train = train_df.drop(columns=[target_column])\n",
    "y_train = train_df[target_column]\n",
    "\n",
    "X_test = test_df.drop(columns=[target_column])\n",
    "y_test = test_df[target_column]\n",
    "\n",
    "# Train the model\n",
    "model = RandomForestRegressor(n_estimators=100, max_depth=10, random_state=42, min_samples_split=2, min_samples_leaf=2)\n",
    "model.fit(X_train, y_train)\n",
    "\n",
    "# Predictions\n",
    "y_train_pred = model.predict(X_train)\n",
    "y_test_pred = model.predict(X_test)\n",
    "\n",
    "# Evaluate Training Performance\n",
    "train_mae = mean_absolute_error(y_train, y_train_pred)\n",
    "train_rmse = mean_squared_error(y_train, y_train_pred)\n",
    "train_r2 = r2_score(y_train, y_train_pred)\n",
    "\n",
    "# Evaluate Testing Performance\n",
    "test_mae = mean_absolute_error(y_test, y_test_pred)\n",
    "test_rmse = mean_squared_error(y_test, y_test_pred)\n",
    "test_r2 = r2_score(y_test, y_test_pred)\n",
    "\n",
    "# Print results\n",
    "print(\"Training Performance:\")\n",
    "print(f\"MAE: {train_mae:.2f}, RMSE: {train_rmse:.2f}, R²: {train_r2:.4f}\")\n",
    "\n",
    "print(\"\\nTesting Performance:\")\n",
    "print(f\"MAE: {test_mae:.2f}, RMSE: {test_rmse:.2f}, R²: {test_r2:.4f}\")\n"
   ]
  },
  {
   "cell_type": "code",
   "execution_count": 3,
   "id": "c449960d-e785-4e12-bf72-68d67d3f3bc5",
   "metadata": {},
   "outputs": [
    {
     "name": "stdout",
     "output_type": "stream",
     "text": [
      "Predicted values saved successfully.\n"
     ]
    }
   ],
   "source": [
    "train_df = train_df.reset_index(drop=True)  # Reset index to avoid mismatches\n",
    "y_test = y_test.reset_index(drop=True)  # Reset y_test index\n",
    "y_pred = pd.Series(y_test_pred, index=y_test.index)  # Ensure y_pred index matches\n",
    "\n",
    "# Create output DataFrame\n",
    "output_df = pd.DataFrame({\"Sales\": y_test, \"Predicted Sales\": y_pred})\n",
    "\n",
    "# Save to CSV\n",
    "output_df.to_csv(\"predicted_sales.csv\", index=False)\n",
    "\n",
    "print(\"Predicted values saved successfully.\")\n"
   ]
  },
  {
   "cell_type": "code",
   "execution_count": 4,
   "id": "d2eb1826-772c-4203-be4a-7c592d6fd74c",
   "metadata": {},
   "outputs": [
    {
     "data": {
      "text/plain": [
       "['random_forest_model.pkl']"
      ]
     },
     "execution_count": 4,
     "metadata": {},
     "output_type": "execute_result"
    }
   ],
   "source": [
    "# ✅ Save model correctly\n",
    "from sklearn.ensemble import RandomForestRegressor\n",
    "import pandas as pd\n",
    "import joblib\n",
    "\n",
    "joblib.dump(model, \"random_forest_model.pkl\")"
   ]
  },
  {
   "cell_type": "code",
   "execution_count": null,
   "id": "3e5ae45c-88c0-4165-b208-c64fac6bdea1",
   "metadata": {},
   "outputs": [],
   "source": []
  }
 ],
 "metadata": {
  "kernelspec": {
   "display_name": "Python 3 (ipykernel)",
   "language": "python",
   "name": "python3"
  },
  "language_info": {
   "codemirror_mode": {
    "name": "ipython",
    "version": 3
   },
   "file_extension": ".py",
   "mimetype": "text/x-python",
   "name": "python",
   "nbconvert_exporter": "python",
   "pygments_lexer": "ipython3",
   "version": "3.13.0"
  }
 },
 "nbformat": 4,
 "nbformat_minor": 5
}
